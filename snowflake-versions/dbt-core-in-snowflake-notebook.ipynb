{
 "metadata": {
  "kernelspec": {
   "display_name": "Streamlit Notebook",
   "name": "streamlit"
  }
 },
 "nbformat_minor": 5,
 "nbformat": 4,
 "cells": [
  {
   "cell_type": "code",
   "id": "3775908f-ca36-4846-8f38-5adca39217f2",
   "metadata": {
    "language": "python",
    "name": "cell1",
    "resultHeight": 0,
    "collapsed": false
   },
   "source": "# Import python packages\nimport streamlit as st\nimport pandas as pd\n\n# We can also use Snowpark for our analyses!\nfrom snowflake.snowpark.context import get_active_session\nsession = get_active_session()\n",
   "execution_count": null,
   "outputs": []
  },
  {
   "cell_type": "code",
   "id": "1f0fb38a-a31c-4ccd-873e-2870bc747b8b",
   "metadata": {
    "language": "python",
    "name": "cell4",
    "resultHeight": 2745,
    "codeCollapsed": false,
    "collapsed": false
   },
   "outputs": [],
   "source": "!pip install dbt-core",
   "execution_count": null
  },
  {
   "cell_type": "code",
   "id": "e6766297-7fe6-4578-abb8-adc60912a605",
   "metadata": {
    "language": "python",
    "name": "cell5",
    "resultHeight": 2074,
    "collapsed": false
   },
   "outputs": [],
   "source": "!pip install dbt-snowflake",
   "execution_count": null
  },
  {
   "cell_type": "code",
   "id": "b348d502-15d9-4126-b97f-265d1ed46b9d",
   "metadata": {
    "language": "python",
    "name": "cell6",
    "collapsed": false,
    "resultHeight": 0,
    "codeCollapsed": false
   },
   "outputs": [],
   "source": "from dbt.cli.main import dbtRunner\nimport os\n\ndef main(session):\n    # Get current session details\n    current_session = session\n    \n    # Create profiles.yml content dynamically\n    profiles_content = f\"\"\"\ndefault:\n  target: prod\n  outputs:\n    prod:\n      type: snowflake\n      account: {current_session.get_current_account()}\n      user: {current_session.get_current_user()}\n      role: {current_session.get_current_role()}\n      warehouse: {current_session.get_current_warehouse()}\n      database: {current_session.get_current_database()}\n      schema: {current_session.get_current_schema()}\n      threads: 4\n    \"\"\"\n    \n    # Write temporary profiles file\n    temp_profiles_dir = \"/tmp/dbt_profiles\"\n    os.makedirs(temp_profiles_dir, exist_ok=True)\n    with open(f\"{temp_profiles_dir}/profiles.yml\", \"w\") as f:\n        f.write(profiles_content)\n    \n    try:\n    # Run dbt with temporary profiles\n        dbt = dbtRunner()\n        result = dbt.invoke([\n            \"run\",\n            \"--project-dir\", \".\",\n            \"--profiles-dir\", temp_profiles_dir\n        ])\n        # return \"Success\"\n        return result\n    except Exception as inst:\n        return inst\n        \n    \n    # return \"Success\" if result.success else \"Failed\"\n",
   "execution_count": null
  },
  {
   "cell_type": "code",
   "id": "92b2adfe-88b5-4acc-917a-6d541e09dc12",
   "metadata": {
    "language": "python",
    "name": "cell7",
    "resultHeight": 504,
    "codeCollapsed": false,
    "collapsed": false
   },
   "outputs": [],
   "source": "main(session)",
   "execution_count": null
  }
 ]
}